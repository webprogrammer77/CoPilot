{
  "nbformat": 4,
  "nbformat_minor": 0,
  "metadata": {
    "colab": {
      "name": "hw1.ipynb",
      "provenance": [],
      "authorship_tag": "ABX9TyPs91cxb+RoFc2HJUpZ1eAw",
      "include_colab_link": true
    },
    "kernelspec": {
      "name": "python3",
      "display_name": "Python 3"
    },
    "accelerator": "GPU"
  },
  "cells": [
    {
      "cell_type": "markdown",
      "metadata": {
        "id": "view-in-github",
        "colab_type": "text"
      },
      "source": [
        "<a href=\"https://colab.research.google.com/github/webprogrammer77/CoPilot/blob/master/digit1.ipynb\" target=\"_parent\"><img src=\"https://colab.research.google.com/assets/colab-badge.svg\" alt=\"Open In Colab\"/></a>"
      ]
    },
    {
      "cell_type": "markdown",
      "metadata": {
        "id": "HIIxpMpEBknA",
        "colab_type": "text"
      },
      "source": [
        "**ДОМАШНЕЕ ЗАДАНИЕ №1 июльский курс - 2020 PRO**"
      ]
    },
    {
      "cell_type": "markdown",
      "metadata": {
        "id": "f-abncETC1Ue",
        "colab_type": "text"
      },
      "source": [
        "#LIGHT"
      ]
    },
    {
      "cell_type": "markdown",
      "metadata": {
        "id": "NDT7mIPdB-EW",
        "colab_type": "text"
      },
      "source": [
        "**Импорт библиотек.**"
      ]
    },
    {
      "cell_type": "code",
      "metadata": {
        "id": "hBMkkgdRRgZd",
        "colab_type": "code",
        "colab": {}
      },
      "source": [
        "from tensorflow.keras.datasets import mnist #Библиотека с базой Mnist\n",
        "from tensorflow.keras.models import Sequential # Подлючаем класс создания модели Sequential\n",
        "from tensorflow.keras.layers import Dense # Подключаем класс Dense - полносвязный слой\n",
        "from tensorflow.keras.optimizers import Adam # Подключаем оптимизатор Adam\n",
        "from tensorflow.keras import utils #Утилиты для to_categorical\n",
        "from tensorflow.keras.preprocessing import image #Для отрисовки изображения\n",
        "import numpy as np # Подключаем библиотеку numpy\n",
        "import pylab # Модуль для построения графиков\n",
        "from mpl_toolkits.mplot3d import Axes3D # Модуль для трехмерной графики\n",
        "from google.colab import files #Для загрузки своей картинки\n",
        "import matplotlib.pyplot as plt #Отрисовка изображений\n",
        "from PIL import Image #Отрисовка изображений\n",
        "#Отрисовывать изображения в ноутбуке, а не в консоль или файл\n",
        "%matplotlib inline "
      ],
      "execution_count": null,
      "outputs": []
    },
    {
      "cell_type": "markdown",
      "metadata": {
        "id": "F5Vp3O2eCXnO",
        "colab_type": "text"
      },
      "source": [
        "**Загрузка базы mnist.**"
      ]
    },
    {
      "cell_type": "code",
      "metadata": {
        "id": "tz9qMk1kCZw4",
        "colab_type": "code",
        "colab": {
          "base_uri": "https://localhost:8080/",
          "height": 51
        },
        "outputId": "1a4706aa-19f4-40cc-deb0-0deb916a5aca"
      },
      "source": [
        "(x_train_org, y_train_org), (x_test_org, y_test_org) = mnist.load_data() #Загрузка данных Mnist"
      ],
      "execution_count": null,
      "outputs": [
        {
          "output_type": "stream",
          "text": [
            "Downloading data from https://storage.googleapis.com/tensorflow/tf-keras-datasets/mnist.npz\n",
            "11493376/11490434 [==============================] - 0s 0us/step\n"
          ],
          "name": "stdout"
        }
      ]
    },
    {
      "cell_type": "markdown",
      "metadata": {
        "id": "kzXhTMKsCa7O",
        "colab_type": "text"
      },
      "source": [
        "**Создание нейронной сети.**"
      ]
    },
    {
      "cell_type": "code",
      "metadata": {
        "id": "LELYqXAlCkW2",
        "colab_type": "code",
        "colab": {}
      },
      "source": [
        "model = Sequential() # Создаём сеть прямого распространения\n",
        "model.add(Dense(400, input_dim=784, activation=\"relu\")) # Добавляем полносвязный слой на 800 нейронов с relu-активацией\n",
        "model.add(Dense(800, activation=\"relu\")) # Добавляем полносвязный слой на 400 нейронов с relu-активацией\n",
        "model.add(Dense(10, activation=\"softmax\")) # Добавляем полносвязный слой на 10 нейронов с softmax-активацией"
      ],
      "execution_count": null,
      "outputs": []
    },
    {
      "cell_type": "code",
      "metadata": {
        "id": "LB94ohjmG3Pn",
        "colab_type": "code",
        "colab": {
          "base_uri": "https://localhost:8080/",
          "height": 272
        },
        "outputId": "aadded7b-fa52-4b8c-e92a-04f9c0e3b2c2"
      },
      "source": [
        "model.compile(loss=\"categorical_crossentropy\", optimizer=\"adam\", metrics=[\"accuracy\"]) # Компилируем модель\n",
        "print(model.summary()) #Вывод структуры модели"
      ],
      "execution_count": null,
      "outputs": [
        {
          "output_type": "stream",
          "text": [
            "Model: \"sequential\"\n",
            "_________________________________________________________________\n",
            "Layer (type)                 Output Shape              Param #   \n",
            "=================================================================\n",
            "dense (Dense)                (None, 400)               314000    \n",
            "_________________________________________________________________\n",
            "dense_1 (Dense)              (None, 800)               320800    \n",
            "_________________________________________________________________\n",
            "dense_2 (Dense)              (None, 10)                8010      \n",
            "=================================================================\n",
            "Total params: 642,810\n",
            "Trainable params: 642,810\n",
            "Non-trainable params: 0\n",
            "_________________________________________________________________\n",
            "None\n"
          ],
          "name": "stdout"
        }
      ]
    },
    {
      "cell_type": "markdown",
      "metadata": {
        "id": "-kIjIZJrCkv2",
        "colab_type": "text"
      },
      "source": [
        "**Обучение нейронной сети.**"
      ]
    },
    {
      "cell_type": "code",
      "metadata": {
        "id": "ZFjjiRaCD693",
        "colab_type": "code",
        "colab": {
          "base_uri": "https://localhost:8080/",
          "height": 51
        },
        "outputId": "5666dc76-a666-403f-926c-f76e9b02d4be"
      },
      "source": [
        "#Меняем формат входных картинок с 28х28 на 784х1\n",
        "x_train = x_train_org.reshape(60000, 784)\n",
        "x_test = x_test_org.reshape(10000, 784)\n",
        "print(x_train_org.shape)\n",
        "print(x_train.shape)"
      ],
      "execution_count": null,
      "outputs": [
        {
          "output_type": "stream",
          "text": [
            "(60000, 28, 28)\n",
            "(60000, 784)\n"
          ],
          "name": "stdout"
        }
      ]
    },
    {
      "cell_type": "code",
      "metadata": {
        "id": "WslIHytTEAYG",
        "colab_type": "code",
        "colab": {}
      },
      "source": [
        "#Нормализуем входные картинки\n",
        "x_train = x_train.astype('float32') # преобразовываем x_train в тип float (цифры с плавающей точкой)\n",
        "x_train = x_train / 255 # делим на 255, чтобы диапазон был от 0 до 1\n",
        "x_test = x_test.astype('float32') # преобразовываем x_test в тип float (цифры с плавающей точкой)\n",
        "x_test = x_test / 255 # делим на 255, чтобы диапазон был от 0 до 1"
      ],
      "execution_count": null,
      "outputs": []
    },
    {
      "cell_type": "code",
      "metadata": {
        "id": "B3FYoGj8HLgP",
        "colab_type": "code",
        "colab": {}
      },
      "source": [
        "# Преобразуем ответы в формат one_hot_encoding\n",
        "y_train = utils.to_categorical(y_train_org, 10)\n",
        "y_test = utils.to_categorical(y_test_org, 10)"
      ],
      "execution_count": null,
      "outputs": []
    },
    {
      "cell_type": "code",
      "metadata": {
        "id": "5RdDmCk1DDt2",
        "colab_type": "code",
        "colab": {
          "base_uri": "https://localhost:8080/",
          "height": 544
        },
        "outputId": "b73c796c-bb71-43ee-9017-031cee402442"
      },
      "source": [
        "#fit - функция обучения нейронки\n",
        "#x_train, y_train - обучающая выборка, входные и выходные данные\n",
        "#batch_size - размер батча, количество примеров, которое обрабатывает нейронка перед одним изменением весов\n",
        "#epochs - количество эпох, когда нейронка обучается на всех примерах выборки\n",
        "#verbose - 0 - не визуализировать ход обучения, 1 - визуализировать\n",
        "model.fit(x_train, y_train, batch_size=128, epochs=15, verbose=1, validation_split=0.2)"
      ],
      "execution_count": null,
      "outputs": [
        {
          "output_type": "stream",
          "text": [
            "Epoch 1/15\n",
            "375/375 [==============================] - 2s 5ms/step - loss: 0.0146 - accuracy: 0.9952 - val_loss: 0.1261 - val_accuracy: 0.9758\n",
            "Epoch 2/15\n",
            "375/375 [==============================] - 2s 5ms/step - loss: 0.0089 - accuracy: 0.9975 - val_loss: 0.1142 - val_accuracy: 0.9793\n",
            "Epoch 3/15\n",
            "375/375 [==============================] - 2s 5ms/step - loss: 0.0055 - accuracy: 0.9983 - val_loss: 0.1018 - val_accuracy: 0.9821\n",
            "Epoch 4/15\n",
            "375/375 [==============================] - 2s 5ms/step - loss: 0.0081 - accuracy: 0.9975 - val_loss: 0.1245 - val_accuracy: 0.9783\n",
            "Epoch 5/15\n",
            "375/375 [==============================] - 2s 5ms/step - loss: 0.0076 - accuracy: 0.9974 - val_loss: 0.1196 - val_accuracy: 0.9792\n",
            "Epoch 6/15\n",
            "375/375 [==============================] - 2s 5ms/step - loss: 0.0096 - accuracy: 0.9969 - val_loss: 0.1196 - val_accuracy: 0.9797\n",
            "Epoch 7/15\n",
            "375/375 [==============================] - 2s 5ms/step - loss: 0.0106 - accuracy: 0.9966 - val_loss: 0.1334 - val_accuracy: 0.9772\n",
            "Epoch 8/15\n",
            "375/375 [==============================] - 2s 5ms/step - loss: 0.0078 - accuracy: 0.9975 - val_loss: 0.1448 - val_accuracy: 0.9753\n",
            "Epoch 9/15\n",
            "375/375 [==============================] - 2s 5ms/step - loss: 0.0074 - accuracy: 0.9978 - val_loss: 0.1152 - val_accuracy: 0.9812\n",
            "Epoch 10/15\n",
            "375/375 [==============================] - 2s 5ms/step - loss: 0.0062 - accuracy: 0.9983 - val_loss: 0.1515 - val_accuracy: 0.9758\n",
            "Epoch 11/15\n",
            "375/375 [==============================] - 2s 5ms/step - loss: 0.0061 - accuracy: 0.9982 - val_loss: 0.1325 - val_accuracy: 0.9800\n",
            "Epoch 12/15\n",
            "375/375 [==============================] - 2s 5ms/step - loss: 0.0048 - accuracy: 0.9987 - val_loss: 0.1375 - val_accuracy: 0.9792\n",
            "Epoch 13/15\n",
            "375/375 [==============================] - 2s 5ms/step - loss: 0.0055 - accuracy: 0.9985 - val_loss: 0.1267 - val_accuracy: 0.9796\n",
            "Epoch 14/15\n",
            "375/375 [==============================] - 2s 5ms/step - loss: 0.0073 - accuracy: 0.9980 - val_loss: 0.1678 - val_accuracy: 0.9761\n",
            "Epoch 15/15\n",
            "375/375 [==============================] - 2s 5ms/step - loss: 0.0086 - accuracy: 0.9973 - val_loss: 0.1423 - val_accuracy: 0.9797\n"
          ],
          "name": "stdout"
        },
        {
          "output_type": "execute_result",
          "data": {
            "text/plain": [
              "<tensorflow.python.keras.callbacks.History at 0x7f2eac424be0>"
            ]
          },
          "metadata": {
            "tags": []
          },
          "execution_count": 143
        }
      ]
    },
    {
      "cell_type": "code",
      "metadata": {
        "id": "AJr6Y-T6EsG2",
        "colab_type": "code",
        "colab": {}
      },
      "source": [
        "model.save_weights('model.h5')\n",
        "model.load_weights('model.h5')"
      ],
      "execution_count": null,
      "outputs": []
    },
    {
      "cell_type": "markdown",
      "metadata": {
        "id": "EIhdU44nDtrB",
        "colab_type": "text"
      },
      "source": [
        "**Проверка - Распознавание рукописных цифр.**"
      ]
    },
    {
      "cell_type": "code",
      "metadata": {
        "id": "YwxsgXD8D1F-",
        "colab_type": "code",
        "colab": {
          "base_uri": "https://localhost:8080/",
          "height": 265
        },
        "outputId": "1ae7954a-756e-43a6-8727-12469ef0b720"
      },
      "source": [
        "n_rec = 1 #Номер тестовой цифры, которую будем распознавать\n",
        "plt.imshow(Image.fromarray(x_test_org[n_rec]).convert('RGBA')) # Нарисуем картинку из тестового набора под номером n_rec\n",
        "plt.show()"
      ],
      "execution_count": null,
      "outputs": [
        {
          "output_type": "display_data",
          "data": {
            "image/png": "[encoded data removed]",
            "text/plain": [
              "<Figure size 432x288 with 1 Axes>"
            ]
          },
          "metadata": {
            "tags": [],
            "needs_background": "light"
          }
        }
      ]
    },
    {
      "cell_type": "code",
      "metadata": {
        "id": "P3ZheTsdEDYO",
        "colab_type": "code",
        "colab": {
          "base_uri": "https://localhost:8080/",
          "height": 34
        },
        "outputId": "15fa9d08-a92e-4200-85c1-a4a6301c52d8"
      },
      "source": [
        "#Выбираем нужную картинку из тестовой выборки\n",
        "x = x_test[n_rec]\n",
        "print(x.shape)"
      ],
      "execution_count": null,
      "outputs": [
        {
          "output_type": "stream",
          "text": [
            "(784,)\n"
          ],
          "name": "stdout"
        }
      ]
    },
    {
      "cell_type": "code",
      "metadata": {
        "id": "SuLLtSBHFMrw",
        "colab_type": "code",
        "colab": {
          "base_uri": "https://localhost:8080/",
          "height": 34
        },
        "outputId": "e8e7a2ff-b510-4c76-eb9f-11cb19dbc417"
      },
      "source": [
        "#Добавляем одну размерность в конце, чтобы нейронка могла распознать пример\n",
        "#Потому что нейронка принимает именно массив примеров для распознавания\n",
        "#Мы делаем массив из одного примера\n",
        "x = np.expand_dims(x, axis=0)\n",
        "print(x.shape)"
      ],
      "execution_count": null,
      "outputs": [
        {
          "output_type": "stream",
          "text": [
            "(1, 784)\n"
          ],
          "name": "stdout"
        }
      ]
    },
    {
      "cell_type": "code",
      "metadata": {
        "id": "yHK58OE_FWkH",
        "colab_type": "code",
        "colab": {
          "base_uri": "https://localhost:8080/",
          "height": 34
        },
        "outputId": "31c0c078-5e8f-417d-faac-e41520f92bce"
      },
      "source": [
        "prediction = model.predict(x) #Распознаём наш пример\n",
        "prediction = np.argmax(prediction) # Получаем индекс самого большого элемента (это итоговая цифра, которую распознала сеть)\n",
        "print(prediction)"
      ],
      "execution_count": null,
      "outputs": [
        {
          "output_type": "stream",
          "text": [
            "2\n"
          ],
          "name": "stdout"
        }
      ]
    },
    {
      "cell_type": "code",
      "metadata": {
        "id": "hOPtvo9GFg_Q",
        "colab_type": "code",
        "colab": {
          "base_uri": "https://localhost:8080/",
          "height": 34
        },
        "outputId": "b4968dd9-752c-47f3-f61e-034c75efe544"
      },
      "source": [
        "print(y_test_org[n_rec]) #выводим правильный ответ, для сравнения"
      ],
      "execution_count": null,
      "outputs": [
        {
          "output_type": "stream",
          "text": [
            "2\n"
          ],
          "name": "stdout"
        }
      ]
    },
    {
      "cell_type": "markdown",
      "metadata": {
        "id": "CcwxTLo_BxHm",
        "colab_type": "text"
      },
      "source": [
        "#PRO"
      ]
    },
    {
      "cell_type": "markdown",
      "metadata": {
        "id": "fL_NSsVz9DUO",
        "colab_type": "text"
      },
      "source": [
        "##Распознование цифры сделанной в paint"
      ]
    },
    {
      "cell_type": "markdown",
      "metadata": {
        "id": "gSv6lS1fB4H-",
        "colab_type": "text"
      },
      "source": [
        "**загрузка файла сделанного в paint изображения цифры**"
      ]
    },
    {
      "cell_type": "code",
      "metadata": {
        "id": "r4uezeaRSckM",
        "colab_type": "code",
        "colab": {
          "base_uri": "https://localhost:8080/",
          "height": 34
        },
        "outputId": "f2ef8443-af0f-4645-e1d5-3c6d6531e7c7"
      },
      "source": [
        "try:\n",
        "  f = open('8.jpg')\n",
        "  f.close()\n",
        "  print('Файл уже загружен')\n",
        "except IOError: \n",
        "  !wget 'http://rus-books.ru/9.jpg' #загружаем картинку в колаб\n"
      ],
      "execution_count": null,
      "outputs": [
        {
          "output_type": "stream",
          "text": [
            "Файл уже загружен\n"
          ],
          "name": "stdout"
        }
      ]
    },
    {
      "cell_type": "markdown",
      "metadata": {
        "id": "l_PSkjmpv83w",
        "colab_type": "text"
      },
      "source": [
        "**Подготовка цифры для распознания**"
      ]
    },
    {
      "cell_type": "code",
      "metadata": {
        "id": "Chk2LfWtB5I-",
        "colab_type": "code",
        "colab": {
          "base_uri": "https://localhost:8080/",
          "height": 282
        },
        "outputId": "06d626b9-7dba-4575-ce92-1e4f4a02fc8d"
      },
      "source": [
        "img_load = image.load_img('8.jpg', color_mode='grayscale', target_size=(28,28)) #загружаем картинку в переменную.\n",
        "plt.imshow(img_load, cmap='Greys') #Отрисовка картинки\n",
        "plt.show() # Вывод картинки\n",
        "img_arr = image.img_to_array(img_load) #преобразуем изображение в numpy-массив.\n",
        "img = img_arr.reshape(1,784) #Меняем формат входных картинок с 28х28 на 784х1\n",
        "img = img.astype('float32') #преобразовываем img в тип float (цифры с плавающей точкой)\n",
        "img = img / 255 #делим на 255, чтобы диапазон был от 0 до 1\n",
        "img = 1 - img #инвертируем\n",
        "print(img.shape)\n",
        "\n"
      ],
      "execution_count": null,
      "outputs": [
        {
          "output_type": "display_data",
          "data": {
            "image/png": "[encoded data removed]",
            "text/plain": [
              "<Figure size 432x288 with 1 Axes>"
            ]
          },
          "metadata": {
            "tags": [],
            "needs_background": "light"
          }
        },
        {
          "output_type": "stream",
          "text": [
            "(1, 784)\n"
          ],
          "name": "stdout"
        }
      ]
    },
    {
      "cell_type": "markdown",
      "metadata": {
        "id": "tmBtCf6GwcNC",
        "colab_type": "text"
      },
      "source": [
        "**Распознание цифры**"
      ]
    },
    {
      "cell_type": "code",
      "metadata": {
        "id": "CHTZd8aswmym",
        "colab_type": "code",
        "colab": {
          "base_uri": "https://localhost:8080/",
          "height": 68
        },
        "outputId": "89cba6e4-34e8-499a-9a1e-f9b17cd96566"
      },
      "source": [
        "prediction = model.predict(img) #Распознаём наш пример\n",
        "print(prediction)\n",
        "prediction = np.argmax(prediction) # Получаем индекс самого большого элемента (это итоговая цифра, которую распознала сеть)\n",
        "print(prediction)"
      ],
      "execution_count": null,
      "outputs": [
        {
          "output_type": "stream",
          "text": [
            "[[6.0475139e-11 4.4096535e-11 5.6035683e-06 6.0358128e-05 3.6230723e-14\n",
            "  3.1714101e-10 1.4482648e-11 3.6355523e-11 9.9993408e-01 6.9718701e-12]]\n",
            "8\n"
          ],
          "name": "stdout"
        }
      ]
    },
    {
      "cell_type": "markdown",
      "metadata": {
        "id": "eRvZn_s89Xnt",
        "colab_type": "text"
      },
      "source": [
        "##Распознание цифры написанной на листе от руки"
      ]
    },
    {
      "cell_type": "markdown",
      "metadata": {
        "id": "k1M_1A1n-hsC",
        "colab_type": "text"
      },
      "source": [
        "**Загрузка фото цифры сделанной от руки в колаб**"
      ]
    },
    {
      "cell_type": "code",
      "metadata": {
        "id": "J9cxw7C_-imL",
        "colab_type": "code",
        "colab": {
          "base_uri": "https://localhost:8080/",
          "height": 34
        },
        "outputId": "564b639c-f05b-46b5-e981-9300e2cb9565"
      },
      "source": [
        "try:\n",
        "  f = open('4.jpg')\n",
        "  f.close()\n",
        "  print('Файл уже загружен')\n",
        "except IOError: \n",
        "  !wget 'http://rus-books.ru/4.jpg' #загружаем картинку в колаб"
      ],
      "execution_count": null,
      "outputs": [
        {
          "output_type": "stream",
          "text": [
            "Файл уже загружен\n"
          ],
          "name": "stdout"
        }
      ]
    },
    {
      "cell_type": "markdown",
      "metadata": {
        "id": "e9ismuBz_Rsj",
        "colab_type": "text"
      },
      "source": [
        "**Подготовка цифры для распознания**"
      ]
    },
    {
      "cell_type": "code",
      "metadata": {
        "id": "yRvmq9eVJgcM",
        "colab_type": "code",
        "colab": {
          "base_uri": "https://localhost:8080/",
          "height": 265
        },
        "outputId": "b830281e-a3a9-499b-c803-396a37360da8"
      },
      "source": [
        "img_load = image.load_img('4.jpg', color_mode='grayscale', target_size=(28,28)) #загружаем картинку в переменную.\n",
        "\n",
        "plt.imshow(img_load, cmap='Greys') #Отрисовка картинки\n",
        "plt.show() # Вывод картинки"
      ],
      "execution_count": null,
      "outputs": [
        {
          "output_type": "display_data",
          "data": {
            "image/png": "[encoded data removed]",
            "text/plain": [
              "<Figure size 432x288 with 1 Axes>"
            ]
          },
          "metadata": {
            "tags": [],
            "needs_background": "light"
          }
        }
      ]
    },
    {
      "cell_type": "markdown",
      "metadata": {
        "id": "4HQUyOjd-TWN",
        "colab_type": "text"
      },
      "source": [
        "**Дополнительная обработка изображения**"
      ]
    },
    {
      "cell_type": "code",
      "metadata": {
        "id": "RYICRMxhri1D",
        "colab_type": "code",
        "colab": {
          "base_uri": "https://localhost:8080/",
          "height": 265
        },
        "outputId": "24548299-3f3e-42f4-cd63-bac9c4c70b0a"
      },
      "source": [
        "def bright(source_name, result_name, brightness):\n",
        "    source = Image.open(source_name)\n",
        "    result = Image.new('RGB', source.size)\n",
        "    for x in range(source.size[0]):\n",
        "        for y in range(source.size[1]):\n",
        "            r, g, b = source.getpixel((x, y))\n",
        "\n",
        "            red = int(r * brightness)\n",
        "            red = min(255, max(0, red))\n",
        "\n",
        "            green = int(g * brightness)\n",
        "            green = min(255, max(0, green))\n",
        "\n",
        "            blue = int(b * brightness)\n",
        "            blue = min(255, max(0, blue))\n",
        "\n",
        "            result.putpixel((x, y), (red, green, blue))\n",
        "    result.save(result_name, \"JPEG\")  \n",
        "bright('4.jpg', '4-1.jpg', 5)\n",
        "\n",
        "img_load1 = image.load_img('4-1.jpg', color_mode='grayscale', target_size=(28,28)) #загружаем картинку в переменную.\n",
        "plt.imshow(img_load1, cmap='Greys') #Отрисовка картинки\n",
        "plt.show() # Вывод картинки"
      ],
      "execution_count": null,
      "outputs": [
        {
          "output_type": "display_data",
          "data": {
            "image/png": "[encoded data removed]",
            "text/plain": [
              "<Figure size 432x288 with 1 Axes>"
            ]
          },
          "metadata": {
            "tags": [],
            "needs_background": "light"
          }
        }
      ]
    },
    {
      "cell_type": "code",
      "metadata": {
        "id": "HtsZkxoa_ljr",
        "colab_type": "code",
        "colab": {
          "base_uri": "https://localhost:8080/",
          "height": 34
        },
        "outputId": "3c7b2617-e619-4cae-b83d-922374cf3154"
      },
      "source": [
        "img_load = image.load_img('4-1.jpg', color_mode='grayscale', target_size=(28,28)) #загружаем картинку в переменную.\n",
        "img_arr = image.img_to_array(img_load) #преобразуем изображение в numpy-массив.\n",
        "img = img_arr.reshape(1,784) #Меняем формат входных картинок с 28х28 на 784х1\n",
        "img = img.astype('float32') #преобразовываем img в тип float (цифры с плавающей точкой)\n",
        "img = img / 255 #делим на 255, чтобы диапазон был от 0 до 1\n",
        "img = 1 - img #инвертируем\n",
        "print(img.shape)"
      ],
      "execution_count": null,
      "outputs": [
        {
          "output_type": "stream",
          "text": [
            "(1, 784)\n"
          ],
          "name": "stdout"
        }
      ]
    },
    {
      "cell_type": "markdown",
      "metadata": {
        "id": "j1L_RWZtBXWL",
        "colab_type": "text"
      },
      "source": [
        "**Распознание цифры**"
      ]
    },
    {
      "cell_type": "code",
      "metadata": {
        "id": "GfR72hSIBiwK",
        "colab_type": "code",
        "colab": {
          "base_uri": "https://localhost:8080/",
          "height": 34
        },
        "outputId": "d3bf32c3-4ef7-49cc-a2ca-9e55d332af52"
      },
      "source": [
        "prediction = model.predict(img) #Распознаём наш пример\n",
        "prediction = np.argmax(prediction) # Получаем индекс самого большого элемента (это итоговая цифра, которую распознала сеть)\n",
        "print(prediction)"
      ],
      "execution_count": null,
      "outputs": [
        {
          "output_type": "stream",
          "text": [
            "4\n"
          ],
          "name": "stdout"
        }
      ]
    }
  ]
}